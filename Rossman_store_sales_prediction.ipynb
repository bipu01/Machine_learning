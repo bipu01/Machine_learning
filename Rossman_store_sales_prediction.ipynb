{
  "nbformat": 4,
  "nbformat_minor": 0,
  "metadata": {
    "colab": {
      "provenance": [],
      "authorship_tag": "ABX9TyO8RrXNpx6zmWT1o6RYIga9",
      "include_colab_link": true
    },
    "kernelspec": {
      "name": "python3",
      "display_name": "Python 3"
    },
    "language_info": {
      "name": "python"
    }
  },
  "cells": [
    {
      "cell_type": "markdown",
      "metadata": {
        "id": "view-in-github",
        "colab_type": "text"
      },
      "source": [
        "<a href=\"https://colab.research.google.com/github/bipu01/Machine_learning/blob/main/Rossman_store_sales_prediction.ipynb\" target=\"_parent\"><img src=\"https://colab.research.google.com/assets/colab-badge.svg\" alt=\"Open In Colab\"/></a>"
      ]
    },
    {
      "cell_type": "markdown",
      "source": [
        "Install the required packages and libraries"
      ],
      "metadata": {
        "id": "7vduh9y9qtSz"
      }
    },
    {
      "cell_type": "code",
      "source": [
        "!pip install numpy pandas matplotlib scikit-learn opendatasets plotly seaborn --quiet"
      ],
      "metadata": {
        "id": "IclZXrY_quOE"
      },
      "execution_count": 2,
      "outputs": []
    },
    {
      "cell_type": "code",
      "source": [
        "import matplotlib\n",
        "import matplotlib.pyplot as plt\n",
        "import numpy as np\n",
        "import pandas as pd\n",
        "import seaborn as sns\n",
        "import plotly.express as px\n",
        "\n",
        "sns.set_style(\"darkgrid\")\n",
        "matplotlib.rcParams['font.size'] = 14\n",
        "matplotlib.rcParams['figure.figsize'] = (14, 6)\n",
        "matplotlib.rcParams['figure.facecolor'] = \"#00000000\"\n"
      ],
      "metadata": {
        "id": "uYA8f3bdquQ9"
      },
      "execution_count": 6,
      "outputs": []
    },
    {
      "cell_type": "markdown",
      "source": [
        "### Understanding the Big Picture\n",
        "\n",
        "The first step in any machine learning problem is to read the given documentation, talk to various stakeholders and identify the following:\n",
        "\n",
        "1. What is the business problem you're trying to solve using machine learning?\n",
        "2. Why are we interested in solving this problem? What impact will it have on the business?\n",
        "3. How is this problem solved currently, without any machine learning tools?\n",
        "4. Who will use the results of this model, and how does it fit into other business processes?\n",
        "5. How much historical data do we have, and how was it collected?\n",
        "6. What features does the historical data contain? Does it contain the historical values for what we're trying to predict.\n",
        "7. What are some known issues with the data (data entry errors, missing data, differences in units etc.)\n",
        "8. Can we look at some sample rows from the dataset? How representative are they of the entire dataset.\n",
        "9. Where is the data stored and how will you get access to it?\n",
        "10. ...\n",
        "\n",
        "\n",
        "Gather as much information about the problem as possible, so that you're clear understanding of the objective and feasibility of the project."
      ],
      "metadata": {
        "id": "CNh4fM7AquT0"
      }
    },
    {
      "cell_type": "markdown",
      "source": [
        "### Working with Real World Data\n",
        "\n",
        "Whenever possible, try to work with real world datasets. [Kaggle](https://kaggle.com/datasets) is a great source for real-world data."
      ],
      "metadata": {
        "id": "kcuuvTGQquWa"
      }
    },
    {
      "cell_type": "markdown",
      "source": [
        "> **EXERCISE**: Go through the dataset description for [Rossmann Store Sales Prediction](https://www.kaggle.com/c/rossmann-store-sales) and answer the above questions.\n",
        ">\n",
        "> ???"
      ],
      "metadata": {
        "id": "8-BJ-GkHquZM"
      }
    },
    {
      "cell_type": "markdown",
      "source": [
        "> **EXERCISE**: Go through the dataset description for the [Breast Cancer Identification dataset]( https://www.kaggle.com/uciml/breast-cancer-wisconsin-data) and answer the above questions.\n",
        ">\n",
        "> ???"
      ],
      "metadata": {
        "id": "yTjGPyV141-C"
      }
    },
    {
      "cell_type": "code",
      "source": [],
      "metadata": {
        "id": "L-nxzBmx42Au"
      },
      "execution_count": 6,
      "outputs": []
    },
    {
      "cell_type": "code",
      "source": [],
      "metadata": {
        "id": "t1lHcHlj49Fr"
      },
      "execution_count": 6,
      "outputs": []
    },
    {
      "cell_type": "code",
      "source": [],
      "metadata": {
        "id": "R8r06RZe49Oo"
      },
      "execution_count": 6,
      "outputs": []
    },
    {
      "cell_type": "code",
      "source": [],
      "metadata": {
        "id": "jdxz__fx49Rh"
      },
      "execution_count": 6,
      "outputs": []
    },
    {
      "cell_type": "code",
      "source": [],
      "metadata": {
        "id": "7aUp4mEk49Ui"
      },
      "execution_count": 6,
      "outputs": []
    },
    {
      "cell_type": "code",
      "source": [],
      "metadata": {
        "id": "Wti7VJ6W49XF"
      },
      "execution_count": 6,
      "outputs": []
    },
    {
      "cell_type": "code",
      "source": [],
      "metadata": {
        "id": "V_lcBlrG49f7"
      },
      "execution_count": 6,
      "outputs": []
    },
    {
      "cell_type": "code",
      "source": [],
      "metadata": {
        "id": "eM_sMLEX49iU"
      },
      "execution_count": null,
      "outputs": []
    },
    {
      "cell_type": "code",
      "source": [],
      "metadata": {
        "id": "v-RIf0ST42DP"
      },
      "execution_count": 6,
      "outputs": []
    },
    {
      "cell_type": "code",
      "source": [],
      "metadata": {
        "id": "OSmPhuCl42Fu"
      },
      "execution_count": 6,
      "outputs": []
    },
    {
      "cell_type": "code",
      "source": [],
      "metadata": {
        "id": "Pc5yFN9R42H-"
      },
      "execution_count": null,
      "outputs": []
    },
    {
      "cell_type": "code",
      "source": [],
      "metadata": {
        "id": "7BDlqZ-Nqubv"
      },
      "execution_count": null,
      "outputs": []
    },
    {
      "cell_type": "code",
      "source": [],
      "metadata": {
        "id": "aVQF4PaCqueU"
      },
      "execution_count": null,
      "outputs": []
    }
  ]
}